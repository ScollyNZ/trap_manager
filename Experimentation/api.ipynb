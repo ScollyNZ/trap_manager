{
 "cells": [
  {
   "cell_type": "code",
   "execution_count": 15,
   "id": "01d98da6",
   "metadata": {},
   "outputs": [
    {
     "data": {
      "text/plain": [
       "True"
      ]
     },
     "execution_count": 15,
     "metadata": {},
     "output_type": "execute_result"
    }
   ],
   "source": [
    "# Obtain an OAuth token from the Trap.NZ API\n",
    "# Documentation at api2.trap.nz\n",
    "\n",
    "# Load .env file\n",
    "from dotenv import load_dotenv\n",
    "import os\n",
    "# Load .env file\n",
    "\n",
    "load_dotenv(override=True)"
   ]
  },
  {
   "cell_type": "code",
   "execution_count": 51,
   "id": "c102e4f6",
   "metadata": {},
   "outputs": [],
   "source": [
    "# Obtain an OAuth token from the Trap.NZ API using requests\n",
    "import requests\n",
    "\n",
    "\"\"\"\n",
    "Obtain an OAuth token from the Trap.NZ API.\n",
    "\"\"\"\n",
    "def obtain_oauth_token():\n",
    "    url = \"https://api2.trap.nz/oauth2/token\"\n",
    "    payload = {\n",
    "        \"grant_type\": \"password\",\n",
    "        \"username\": os.getenv('TRAPNZ_SERVICEACCOUNT_USERNAME'),\n",
    "        \"password\": os.getenv('TRAPNZ_SERVICEACCOUNT_PASSWORD'),\n",
    "        \"client_id\": os.getenv('TRAPNZ_CLIENT_ID'),\n",
    "        \"scope\": \"default\",\n",
    "        \"client_secret\": os.getenv('TRAPNZ_CLIENT_SECRET')\n",
    "        }\n",
    "\n",
    "    response = requests.post(url, json=payload, headers={\n",
    "        \"Content-Type\": \"application/json\"})\n",
    "\n",
    "    if response.status_code == 200:\n",
    "        return response.json()['access_token']\n",
    "    else:\n",
    "        raise Exception(f\"Failed to obtain token: {response.status_code} {response.text}\")\n"
   ]
  },
  {
   "cell_type": "code",
   "execution_count": null,
   "id": "0d07f7e2",
   "metadata": {},
   "outputs": [],
   "source": [
    "\n",
    "# Get all trap lines, only return those that start with \"HQP\"\n",
    "def get_trap_lines(oauth_token):\n",
    "    url = \"https://api2.trap.nz/lines\"\n",
    "    headers = {\n",
    "        \"Authorization\": f\"Bearer {oauth_token}\",\n",
    "        \"Content-Type\": \"application/json\"\n",
    "    }                             \n",
    "    response = requests.get(url, headers=headers)\n",
    "\n",
    "    if response.status_code == 200:\n",
    "        response_doc =  response.json()\n",
    "    else:\n",
    "        raise Exception(f\"Failed to get trap lines: {response.status_code} {response.text}\")        \n",
    "    \n",
    "    # Filter trap lines that start with \"HQP\"\n",
    "    trap_lines = [line for line in response_doc if line['name'].startswith(\"HQP\") and line['type']['trap']==True]\n",
    "    return trap_lines   "
   ]
  },
  {
   "cell_type": "code",
   "execution_count": null,
   "id": "8d78d840",
   "metadata": {},
   "outputs": [],
   "source": [
    "# Given the following trap lines, list all traps in each line\n",
    "oauth_token = obtain_oauth_token()\n",
    "def get_traps_in_lines(oauth_token, trap_lines):\n",
    "    traps = []\n",
    "    for line in trap_lines:\n",
    "        url = f\"https://api2.trap.nz/lines/{line['id']}/traps\"\n",
    "        headers\n"
   ]
  },
  {
   "cell_type": "code",
   "execution_count": null,
   "id": "a01c55f2",
   "metadata": {},
   "outputs": [
    {
     "data": {
      "text/plain": [
       "[{'uuid': '613fdeeb-102d-41cb-b9ba-faeb5aa918be',\n",
       "  'name': 'HQP lake 1',\n",
       "  'project': {'uuid': '6969c1d1-8645-4ba5-ac6e-358de9613fb5',\n",
       "   'nid': 278275,\n",
       "   'name': 'Predator Free Port Hills - Halswell (www.predatorfreeporthills.org.nz)'},\n",
       "  'type': {'trap': True, 'monitoring_station': False, 'bait_station': False},\n",
       "  'colour': '#F83A22',\n",
       "  'meta': {'created': '2018-05-16T21:29:02.000+12:00',\n",
       "   'changed': '2020-01-24T18:17:36.000+13:00',\n",
       "   'owner': {'uuid': '554150b8-2830-4dfb-889f-2e3e4af00dfe',\n",
       "    'username': 'alfie.gillard'},\n",
       "   'nid': 696482}},\n",
       " {'uuid': 'be9c3bcf-ce3b-4c1d-b234-5bcad3696712',\n",
       "  'name': 'HQP lake 2',\n",
       "  'project': {'uuid': '6969c1d1-8645-4ba5-ac6e-358de9613fb5',\n",
       "   'nid': 278275,\n",
       "   'name': 'Predator Free Port Hills - Halswell (www.predatorfreeporthills.org.nz)'},\n",
       "  'type': {'trap': True, 'monitoring_station': False, 'bait_station': False},\n",
       "  'colour': '#16A765',\n",
       "  'meta': {'created': '2020-01-24T18:16:16.000+13:00',\n",
       "   'changed': '2020-01-24T18:18:29.000+13:00',\n",
       "   'owner': {'uuid': '26b657f0-9c48-4f64-990b-cc618cf37542',\n",
       "    'username': 'gwyn'},\n",
       "   'nid': 2271723}},\n",
       " {'uuid': 'c732ba7f-a5c7-43d3-a24e-5a6116d3a909',\n",
       "  'name': 'HQP Line 5',\n",
       "  'project': {'uuid': '6969c1d1-8645-4ba5-ac6e-358de9613fb5',\n",
       "   'nid': 278275,\n",
       "   'name': 'Predator Free Port Hills - Halswell (www.predatorfreeporthills.org.nz)'},\n",
       "  'type': {'trap': True, 'monitoring_station': False, 'bait_station': False},\n",
       "  'colour': '#42D692',\n",
       "  'meta': {'created': '2022-03-26T12:46:57.000+13:00',\n",
       "   'changed': '2022-03-26T12:46:57.000+13:00',\n",
       "   'owner': {'uuid': '26b657f0-9c48-4f64-990b-cc618cf37542',\n",
       "    'username': 'gwyn'},\n",
       "   'nid': 7979421}},\n",
       " {'uuid': 'e79b84fe-bf9c-4512-a0f4-7157aecf106b',\n",
       "  'name': 'HQP Line 3',\n",
       "  'project': {'uuid': '6969c1d1-8645-4ba5-ac6e-358de9613fb5',\n",
       "   'nid': 278275,\n",
       "   'name': 'Predator Free Port Hills - Halswell (www.predatorfreeporthills.org.nz)'},\n",
       "  'type': {'trap': True, 'monitoring_station': False, 'bait_station': False},\n",
       "  'colour': '#FBE983',\n",
       "  'meta': {'created': '2022-03-26T12:57:07.000+13:00',\n",
       "   'changed': '2022-03-26T12:57:07.000+13:00',\n",
       "   'owner': {'uuid': '26b657f0-9c48-4f64-990b-cc618cf37542',\n",
       "    'username': 'gwyn'},\n",
       "   'nid': 7979522}},\n",
       " {'uuid': '652fb379-d3bd-4981-aa78-a2d8706ad787',\n",
       "  'name': 'HQP Line 4',\n",
       "  'project': {'uuid': '6969c1d1-8645-4ba5-ac6e-358de9613fb5',\n",
       "   'nid': 278275,\n",
       "   'name': 'Predator Free Port Hills - Halswell (www.predatorfreeporthills.org.nz)'},\n",
       "  'type': {'trap': True, 'monitoring_station': False, 'bait_station': False},\n",
       "  'colour': '#CD74E6',\n",
       "  'meta': {'created': '2022-03-26T13:00:42.000+13:00',\n",
       "   'changed': '2022-03-26T13:00:42.000+13:00',\n",
       "   'owner': {'uuid': '26b657f0-9c48-4f64-990b-cc618cf37542',\n",
       "    'username': 'gwyn'},\n",
       "   'nid': 7979536}}]"
      ]
     },
     "execution_count": 63,
     "metadata": {},
     "output_type": "execute_result"
    }
   ],
   "source": [
    "lines = get_trap_lines(oauth_token)\n",
    "\n"
   ]
  }
 ],
 "metadata": {
  "kernelspec": {
   "display_name": ".venv",
   "language": "python",
   "name": "python3"
  },
  "language_info": {
   "codemirror_mode": {
    "name": "ipython",
    "version": 3
   },
   "file_extension": ".py",
   "mimetype": "text/x-python",
   "name": "python",
   "nbconvert_exporter": "python",
   "pygments_lexer": "ipython3",
   "version": "3.12.11"
  }
 },
 "nbformat": 4,
 "nbformat_minor": 5
}
