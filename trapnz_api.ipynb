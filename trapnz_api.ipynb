{
 "cells": [
  {
   "cell_type": "code",
   "execution_count": null,
   "id": "affdf800",
   "metadata": {},
   "outputs": [],
   "source": [
    "# get variables from .env file\n",
    "\n",
    "import os\n",
    "from dotenv import load_dotenv\n",
    "\n",
    "load_dotenv()\n",
    "\n",
    "print(os.getenv(\"SLACK_BOT_TOKEN\"))\n",
    "print(os.getenv(\"SLACK_APP_TOKEN\"))"
   ]
  },
  {
   "cell_type": "code",
   "execution_count": null,
   "id": "dedba716",
   "metadata": {},
   "outputs": [],
   "source": [
    "# Send a message to a slack channel\n",
    "\n",
    "import os\n",
    "from slack_sdk import WebClient\n",
    "from slack_sdk.errors import SlackApiError\n",
    "\n",
    "client = WebClient(token=os.getenv(\"SLACK_BOT_TOKEN\"))\n",
    "print(os.getenv(\"SLACK_BOT_TOKEN\"))\n",
    "channel = \"#all-halswell-quarry-trappers\"\n",
    "\n",
    "channels_response = client.conversations_list(types=\"public_channel,private_channel\")\n",
    "#print channel names\n",
    "for channel in channels_response[\"channels\"]:\n",
    "    print(f\"{channel[\"name\"]}: {channel[\"id\"]}\")\n",
    "\n",
    "#join channel\n",
    "#print(client.conversations_join(channel=channel))\n",
    "\n",
    "try:\n",
    "    response = client.chat_postMessage(channel=\"C09A39NDZ1P\", text=\"Hello from Python!\")\n",
    "    assert response[\"message\"][\"text\"] == \"Hello from Python!\"\n",
    "except SlackApiError as e:\n",
    "    print(f\"Error: {e}\")"
   ]
  }
 ],
 "metadata": {
  "kernelspec": {
   "display_name": ".venv",
   "language": "python",
   "name": "python3"
  },
  "language_info": {
   "name": "python",
   "version": "3.12.11"
  }
 },
 "nbformat": 4,
 "nbformat_minor": 5
}
